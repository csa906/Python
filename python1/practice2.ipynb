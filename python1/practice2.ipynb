{
 "cells": [
  {
   "cell_type": "code",
   "execution_count": 7,
   "metadata": {},
   "outputs": [
    {
     "name": "stdout",
     "output_type": "stream",
     "text": [
      "30\n",
      "37\n"
     ]
    }
   ],
   "source": [
    "for i in range(int(input())):\n",
    "    score = 0\n",
    "    repeated_score = 1\n",
    "    result = input()\n",
    "    for i in range(len(result)):\n",
    "        if(result[i] == \"O\"):\n",
    "            score += repeated_score\n",
    "            repeated_score += 1\n",
    "        elif(result[i] == \"X\"):\n",
    "            repeated_score = 1\n",
    "    print(score)"
   ]
  },
  {
   "cell_type": "code",
   "execution_count": 22,
   "metadata": {},
   "outputs": [
    {
     "name": "stdout",
     "output_type": "stream",
     "text": [
      "28 = 1 + 2 + 4 + 7 + 14\n"
     ]
    }
   ],
   "source": [
    "while(True):    \n",
    "    num = int(input())\n",
    "    if(num == -1):\n",
    "        break\n",
    "    else:\n",
    "        a = []\n",
    "        b = 0\n",
    "        i = 1\n",
    "        while(True):\n",
    "            if(num == i):\n",
    "                break\n",
    "            if(num % i == 0):\n",
    "                a.append(i)\n",
    "                b += i\n",
    "            i += 1\n",
    "\n",
    "        if(num == b):\n",
    "            print(\"{0} = \".format(num), end='')\n",
    "            for i in a:\n",
    "                if(i == a[-1]):\n",
    "                    print(\"{0}\".format(i))\n",
    "                else:\n",
    "                    print(\"{0} + \".format(i), end = '')\n",
    "        else:\n",
    "            print(\"{0} is NOT perfect.\".format(num))        "
   ]
  },
  {
   "cell_type": "code",
   "execution_count": 25,
   "metadata": {},
   "outputs": [
    {
     "name": "stdout",
     "output_type": "stream",
     "text": [
      "-1\n"
     ]
    }
   ],
   "source": [
    "time = int(input())\n",
    "A = 0; B = 0; C = 0\n",
    "if(time % 10 != 0):\n",
    "    print(-1)\n",
    "else:\n",
    "    while(True):\n",
    "        if(time >= 300):\n",
    "            time -= 300; A += 1\n",
    "        elif(time >= 60):\n",
    "            time -= 60; B += 1\n",
    "        elif(time >= 10):\n",
    "            time -= 10; C += 1\n",
    "        elif(time == 0):\n",
    "            break\n",
    "    print(A, B, C)"
   ]
  },
  {
   "cell_type": "code",
   "execution_count": 26,
   "metadata": {},
   "outputs": [
    {
     "name": "stdout",
     "output_type": "stream",
     "text": [
      "98 97\n"
     ]
    }
   ],
   "source": [
    "CY_point = 100; SD_point = 100\n",
    "game = int(input())\n",
    "for i in range(game):\n",
    "    cy, sd = map(int, input().split())\n",
    "    if(cy > sd):\n",
    "        SD_point -= cy\n",
    "    elif(cy < sd):\n",
    "        CY_point -= sd\n",
    "print(CY_point, SD_point)"
   ]
  },
  {
   "cell_type": "code",
   "execution_count": null,
   "metadata": {},
   "outputs": [],
   "source": [
    "t = int(input())\n",
    "y_point = 0; k_point = 0\n",
    "\n",
    "for i in range(t):\n",
    "    for i in range(9):\n",
    "        y, k = map(int, input().split())\n",
    "        y_point += y; k_point += k\n",
    "    if(y_point > k_point):\n",
    "        print(\"Yonsei\")\n",
    "    elif(y_point < k_point):\n",
    "        print(\"Korea\")\n",
    "    elif(y_point == k_point):\n",
    "        print(\"Draw\")"
   ]
  },
  {
   "cell_type": "code",
   "execution_count": 48,
   "metadata": {},
   "outputs": [
    {
     "name": "stdout",
     "output_type": "stream",
     "text": [
      "b\n"
     ]
    }
   ],
   "source": [
    "t = int(input())\n",
    "for i in range(t):\n",
    "    u = []\n",
    "    r = []\n",
    "    n = int(input())\n",
    "    for i in range(n):\n",
    "        name, l = input().split()\n",
    "        l = int(l)\n",
    "        u.append(name); r.append(l)\n",
    "    print(u[r.index(max(r))])"
   ]
  },
  {
   "cell_type": "code",
   "execution_count": 49,
   "metadata": {},
   "outputs": [
    {
     "name": "stdout",
     "output_type": "stream",
     "text": [
      "18446744073709551615\n"
     ]
    }
   ],
   "source": [
    "a, b = map(int, input().split())\n",
    "print(a + b)"
   ]
  },
  {
   "cell_type": "code",
   "execution_count": null,
   "metadata": {},
   "outputs": [],
   "source": []
  }
 ],
 "metadata": {
  "kernelspec": {
   "display_name": "SG",
   "language": "python",
   "name": "sg"
  },
  "language_info": {
   "codemirror_mode": {
    "name": "ipython",
    "version": 3
   },
   "file_extension": ".py",
   "mimetype": "text/x-python",
   "name": "python",
   "nbconvert_exporter": "python",
   "pygments_lexer": "ipython3",
   "version": "3.11.7"
  }
 },
 "nbformat": 4,
 "nbformat_minor": 2
}
