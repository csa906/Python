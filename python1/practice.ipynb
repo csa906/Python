{
 "cells": [
  {
   "cell_type": "code",
   "execution_count": null,
   "metadata": {},
   "outputs": [],
   "source": [
    "score = {\"국어\" : 80, \"영어\" : 75, \"수학\" : 55}\n",
    "\n",
    "avg = 0\n",
    "for s in score.values():\n",
    "    avg += s\n",
    "print(avg / len(score))"
   ]
  },
  {
   "cell_type": "code",
   "execution_count": null,
   "metadata": {},
   "outputs": [],
   "source": [
    "#주민번호\n",
    "pin = \"880120-1068234\"\n",
    "#주민번호 앞자리 \n",
    "yymmdd = (pin.split(\"-\"))[0]\n",
    "#주민번호 뒷자리\n",
    "num = (pin.split(\"-\"))[1]\n",
    "\n",
    "print(yymmdd)\n",
    "print(num)"
   ]
  },
  {
   "cell_type": "code",
   "execution_count": null,
   "metadata": {},
   "outputs": [],
   "source": [
    "pin = \"880120-1068234\"\n",
    "print(pin[7])"
   ]
  },
  {
   "cell_type": "code",
   "execution_count": null,
   "metadata": {},
   "outputs": [],
   "source": [
    "a = \"a:b:c:d\"\n",
    "b = a.replace(\":\", \"#\")\n",
    "print(b)"
   ]
  },
  {
   "cell_type": "code",
   "execution_count": null,
   "metadata": {},
   "outputs": [],
   "source": [
    "a = [1, 3, 5, 4, 2]\n",
    "a.sort()\n",
    "a.reverse()\n",
    "print(a)"
   ]
  },
  {
   "cell_type": "code",
   "execution_count": null,
   "metadata": {},
   "outputs": [],
   "source": [
    "a = [\"Life\", \"is\", \"too\", \"short\"]\n",
    "result = \" \".join(a)\n",
    "print(result)"
   ]
  },
  {
   "cell_type": "code",
   "execution_count": null,
   "metadata": {},
   "outputs": [],
   "source": [
    "a = (1, 2, 3)\n",
    "a = a + (4,)\n",
    "print(a)"
   ]
  },
  {
   "cell_type": "code",
   "execution_count": null,
   "metadata": {},
   "outputs": [],
   "source": [
    "N = int(input())\n",
    "M = int(input())\n",
    "result = N*M - 1\n",
    "print(result)"
   ]
  },
  {
   "cell_type": "code",
   "execution_count": null,
   "metadata": {},
   "outputs": [],
   "source": [
    "for n in range(1, int(input()) + 1):\n",
    "    A, B = input().split()\n",
    "    result = int(A)+int(B)\n",
    "    print(\"Case #{0}: {1}\".format(n, result))"
   ]
  },
  {
   "cell_type": "code",
   "execution_count": null,
   "metadata": {},
   "outputs": [],
   "source": [
    "R1, S = input().split()\n",
    "R2 = 2*int(S) - int(R1)\n",
    "print(R2)"
   ]
  },
  {
   "cell_type": "code",
   "execution_count": null,
   "metadata": {},
   "outputs": [],
   "source": [
    "for t in range(1, int(input()) + 1):\n",
    "    A, B = input().split()\n",
    "    print(\"Case #{0}: {1} + {2} = {3}\".format(t, int(A), int(B), int(A) + int(B)))"
   ]
  },
  {
   "cell_type": "code",
   "execution_count": null,
   "metadata": {},
   "outputs": [],
   "source": [
    "from datetime import *\n",
    "\n",
    "y = datetime.now().year\n",
    "m = datetime.now().month\n",
    "d = datetime.now().day\n",
    "print(\"{0}-{1:0>2}-{2}\".format(y, m, d))"
   ]
  },
  {
   "cell_type": "code",
   "execution_count": null,
   "metadata": {},
   "outputs": [],
   "source": [
    "print(16)\n",
    "print(\"yourak1002\")"
   ]
  },
  {
   "cell_type": "code",
   "execution_count": null,
   "metadata": {},
   "outputs": [],
   "source": [
    "A, B = input().split()\n",
    "C = input()\n",
    "A, B, C = int(A), int(B), int(C)\n",
    "\n",
    "r = B + C\n",
    "\n",
    "while(r >= 60):\n",
    "    A += 1\n",
    "    while(A >= 24):\n",
    "        A = 0\n",
    "    r -= 60\n",
    "\n",
    "print(A, r)"
   ]
  },
  {
   "cell_type": "code",
   "execution_count": null,
   "metadata": {},
   "outputs": [],
   "source": [
    "# 첫째 줄에는 현재 시각이 나온다. 현재 시각은 시 A (0 ≤ A ≤ 23), 분 B (0 ≤ B ≤ 59)와 초 C (0 ≤ C ≤ 59)가 정수로 빈칸을 사이에 두고 순서대로 주어진다. \n",
    "# 두 번째 줄에는 요리하는 데 필요한 시간 D (0 ≤ D ≤ 500,000)가 초 단위로 주어진다.\n",
    "\n",
    "A, B, C = input().split()\n",
    "D = input()\n",
    "A, B, C, D = int(A), int(B), int(C), int(D)\n",
    "\n",
    "r1 = C + D\n",
    "while(r1 >= 60):\n",
    "    B += 1\n",
    "    r1 -= 60\n",
    "    if(B >= 60):\n",
    "        A += 1\n",
    "        B -= 60\n",
    "        if(A >= 24):\n",
    "            A -= 24\n",
    "    \n",
    "\n",
    "print(A, B, r1)"
   ]
  },
  {
   "cell_type": "code",
   "execution_count": null,
   "metadata": {},
   "outputs": [],
   "source": [
    "T = int(input())\n",
    "for n in range(T):\n",
    "    A = input().split()\n",
    "    A[0] = float(A[0])\n",
    "    for n2 in range(len(A) - 1):\n",
    "        l = A[n2 + 1]\n",
    "        if(l == \"@\"):\n",
    "            A[0] *= 3\n",
    "        elif(l == \"%\"):\n",
    "            A[0] += 5\n",
    "        elif(l == \"#\"):\n",
    "            A[0] -= 7\n",
    "    print(\"{0:.2f}\".format(A[0]))"
   ]
  },
  {
   "cell_type": "code",
   "execution_count": null,
   "metadata": {},
   "outputs": [],
   "source": [
    "T = int(input())\n",
    "\n",
    "for n in range(T):\n",
    "    b = \"\"\n",
    "    A = input().split()\n",
    "    R = int(A[0])\n",
    "    A = list(A[1])\n",
    "\n",
    "    for n in range(len(A)):\n",
    "        for a in range(R):\n",
    "            b += A[n]\n",
    "    print(b)"
   ]
  },
  {
   "cell_type": "code",
   "execution_count": null,
   "metadata": {},
   "outputs": [],
   "source": [
    "A = int(input())\n",
    "oper = input()\n",
    "B = int(input())\n",
    "if(oper == \"*\"):\n",
    "    result = A * B\n",
    "elif(oper == \"+\"):\n",
    "    result = A + B\n",
    "print(result)"
   ]
  },
  {
   "cell_type": "code",
   "execution_count": null,
   "metadata": {},
   "outputs": [],
   "source": [
    "score = int(input())\n",
    "if(score >= 90):\n",
    "    print(\"A\")\n",
    "elif(score < 90 and score >= 80):\n",
    "    print(\"B\")\n",
    "elif(score < 80 and score >= 70):\n",
    "    print(\"C\")\n",
    "elif(score < 70 and score >= 60):\n",
    "    print(\"D\")\n",
    "else:\n",
    "    print(\"F\")"
   ]
  },
  {
   "cell_type": "code",
   "execution_count": null,
   "metadata": {},
   "outputs": [],
   "source": [
    "A, B, C = map(int, input().split())\n",
    "\n",
    "if((A >= B and A <= C) or (A >= C and A <= B)):\n",
    "    print(A)\n",
    "elif((B >= A and B <= C) or (B >= C and B <= A)):\n",
    "    print(B)\n",
    "elif((C >= A and C <= B) or (C >= B and C <= A)):\n",
    "    print(C)"
   ]
  },
  {
   "cell_type": "code",
   "execution_count": null,
   "metadata": {},
   "outputs": [],
   "source": [
    "#(1 < N <= 10,000,000)\n",
    "N = int(input())\n",
    "i = 2\n",
    "while(True): \n",
    "    if(N % i == 0):\n",
    "        print(i)\n",
    "        N /= i\n",
    "        i = 2\n",
    "    else:\n",
    "        i += 1\n",
    "    if(N == 1):\n",
    "        break"
   ]
  },
  {
   "cell_type": "code",
   "execution_count": null,
   "metadata": {},
   "outputs": [],
   "source": [
    "S = int(input())\n",
    "i = 1\n",
    "while(True):\n",
    "    S -= i\n",
    "    if(S < 0):\n",
    "        print(i - 1)\n",
    "        break\n",
    "    elif(S == 0):\n",
    "        print(i)\n",
    "        break\n",
    "    else:\n",
    "        i += 1"
   ]
  },
  {
   "cell_type": "code",
   "execution_count": null,
   "metadata": {},
   "outputs": [],
   "source": [
    "def is_leap_year(year):\n",
    "    if(year % 4 != 0):\n",
    "        return 0   \n",
    "    else:\n",
    "        if(year % 400 == 0):\n",
    "            return 1\n",
    "        elif(year % 100 == 0):\n",
    "            return 0\n",
    "        else:\n",
    "            return 1\n",
    "\n",
    "year = int(input())\n",
    "print(is_leap_year(year))"
   ]
  },
  {
   "cell_type": "code",
   "execution_count": null,
   "metadata": {},
   "outputs": [],
   "source": [
    "total_score = 0\n",
    "for i in range(5):\n",
    "    score = int(input())\n",
    "    if(score <= 40):\n",
    "        score = 40\n",
    "    total_score += score\n",
    "avg_score = total_score / 5\n",
    "print(int(avg_score))"
   ]
  },
  {
   "cell_type": "code",
   "execution_count": null,
   "metadata": {},
   "outputs": [],
   "source": [
    "def gcd(a, b):\n",
    "    if(b == 0):\n",
    "        return a\n",
    "    else:\n",
    "        return gcd(b, a % b)\n",
    "\n",
    "def lcm(a, b):\n",
    "    return int((a*b) / gcd(a, b))\n",
    "    \n",
    "T = int(input())\n",
    "for i in range(T):\n",
    "    A, B = map(int, input().split())\n",
    "    print(lcm(A, B))"
   ]
  },
  {
   "cell_type": "code",
   "execution_count": null,
   "metadata": {},
   "outputs": [],
   "source": [
    "def dice(a, b, c):\n",
    "    if(a == b == c):\n",
    "        return 10000 + (a * 1000)\n",
    "    elif(a == b):\n",
    "        return 1000 + (a * 100)\n",
    "    elif(b == c):\n",
    "        return 1000 + (b * 100)\n",
    "    elif(a == c):\n",
    "        return 1000 + (c * 100)\n",
    "    else:\n",
    "        return max(a, b, c) * 100\n",
    "    \n",
    "a, b, c = map(int, input().split())\n",
    "print(dice(a, b, c))"
   ]
  },
  {
   "cell_type": "code",
   "execution_count": null,
   "metadata": {},
   "outputs": [],
   "source": [
    "def is_big(a, b):\n",
    "    if(a > b):\n",
    "        print(\"Yes\")\n",
    "    elif(b >= a):\n",
    "        print(\"No\")\n",
    "\n",
    "while(True):\n",
    "    a, b = map(int, input().split())\n",
    "    if(a == 0 and b == 0):\n",
    "        break\n",
    "    else:\n",
    "        is_big(a, b)"
   ]
  },
  {
   "cell_type": "code",
   "execution_count": null,
   "metadata": {},
   "outputs": [],
   "source": [
    "def needed_money(snack_price, snack, balance):\n",
    "    m = snack_price * snack - balance\n",
    "    if(m >= 0):\n",
    "        return m\n",
    "    else:\n",
    "        return 0 \n",
    "\n",
    "K, N, M = map(int, input().split())\n",
    "print(needed_money(K, N, M))"
   ]
  },
  {
   "cell_type": "code",
   "execution_count": null,
   "metadata": {},
   "outputs": [],
   "source": [
    "x = 0\n",
    "y = 0\n",
    "\n",
    "for n in range(3):\n",
    "    if(n == 0):\n",
    "        a1, b1 = map(int, input().split())\n",
    "    elif(n == 1):\n",
    "        a2, b2 = map(int, input().split())\n",
    "    elif(n == 2):\n",
    "        a3, b3 = map(int, input().split())\n",
    "    \n",
    "\n",
    "if(a1 == a2):\n",
    "    x = a3\n",
    "elif(a1 == a3):\n",
    "    x = a2\n",
    "elif(a2 == a3):\n",
    "    x = a1\n",
    "if(b1 == b2):\n",
    "    y = b3\n",
    "elif(b1 == b3):\n",
    "    y = b2\n",
    "elif(b2 == b3):\n",
    "    y = b1\n",
    "    \n",
    "print(x, y)"
   ]
  },
  {
   "cell_type": "code",
   "execution_count": 26,
   "metadata": {},
   "outputs": [
    {
     "name": "stdout",
     "output_type": "stream",
     "text": [
      "12000\n"
     ]
    }
   ],
   "source": [
    "def prize(a, b, c):\n",
    "    if(a == b and b == c):\n",
    "        return 10000 + a * 1000\n",
    "    elif(a == b and b != c):\n",
    "        return 1000 + a * 100\n",
    "    elif(b == c and c != a):\n",
    "        return 1000 + b * 100\n",
    "    elif(a == c and b != c):\n",
    "        return 1000 + c * 100\n",
    "    elif(a != b and b != c):\n",
<<<<<<< HEAD
    "        return max(a, b, c) * 100\n",
    "    \n",
    "N = int(input())\n",
    "big = 0\n",
    "\n",
    "for n in range(N):\n",
    "    a, b, c = map(int, input().split())\n",
    "    if(prize(a, b, c) > big):\n",
    "        big = prize(a, b, c)\n",
    "print(big)"
=======
    "        return max(a, b, c) * 100 "
   ]
  },
  {
   "cell_type": "code",
   "execution_count": 8,
   "metadata": {},
   "outputs": [
    {
     "name": "stdout",
     "output_type": "stream",
     "text": [
      "4.3\n"
     ]
    }
   ],
   "source": [
    "C_score = input()\n",
    "score = {\"A+\" : 4.3, \"A0\" : 4.0, \"A-\" : 3.7,\n",
    "         \"B+\" : 3.3, \"B0\" : 3.0, \"B-\" : 2.7, \n",
    "         \"C+\" : 2.3, \"C0\" : 2.0, \"C-\" : 1.7,\n",
    "         \"D+\" : 1.3, \"D0\" : 1.0, \"D-\" : 0.7,\n",
    "         \"F\" : 0.0}\n",
    "\n",
    "print(score[C_score])"
   ]
  },
  {
   "cell_type": "code",
   "execution_count": 19,
   "metadata": {},
   "outputs": [
    {
     "name": "stdout",
     "output_type": "stream",
     "text": [
      "22 55\n"
     ]
    }
   ],
   "source": [
    "def alarm(hour, min):\n",
    "    if((min - 45) < 0):\n",
    "        min += 15\n",
    "        hour -= 1\n",
    "        if(hour < 0):\n",
    "            hour = 23\n",
    "    else:\n",
    "        min -= 45\n",
    "    \n",
    "    return hour, min\n",
    "\n",
    "hour, min = map(int, input().split())\n",
    "\n",
    "result = alarm(hour, min)\n",
    "print(result[0], result[1])"
   ]
  },
  {
   "cell_type": "code",
   "execution_count": 32,
   "metadata": {},
   "outputs": [
    {
     "name": "stdout",
     "output_type": "stream",
     "text": [
      "80\n"
     ]
    }
   ],
   "source": [
    "def get_height_of_bowl(bowl):\n",
    "    height = 10\n",
    "    for n in range(len(bowl) - 1):\n",
    "        if(bowl[n] == bowl[n+1]):\n",
    "            height += 5\n",
    "        else:\n",
    "            height += 10\n",
    "    return height\n",
    "\n",
    "bowl = input()\n",
    "height = get_height_of_bowl(bowl)\n",
    "print(height)"
   ]
  },
  {
   "cell_type": "code",
   "execution_count": 33,
   "metadata": {},
   "outputs": [
    {
     "name": "stdout",
     "output_type": "stream",
     "text": [
      "advertise\n",
      "does not matter\n",
      "do not advertise\n"
     ]
    }
   ],
   "source": [
    "def ad(not_advertised, advertised, price):\n",
    "    if(advertised - not_advertised > price):\n",
    "        return \"advertise\"\n",
    "    elif(advertised - not_advertised == price):\n",
    "        return \"does not matter\"\n",
    "    elif(advertised - not_advertised < price):\n",
    "        return \"do not advertise\"\n",
    "\n",
    "n = int(input())\n",
    "\n",
    "for i in range(n):\n",
    "    not_advertised, advertised, price = map(int, input().split())\n",
    "    print(ad(not_advertised, advertised, price))"
   ]
  },
  {
   "cell_type": "code",
   "execution_count": 35,
   "metadata": {},
   "outputs": [
    {
     "name": "stdout",
     "output_type": "stream",
     "text": [
      "tie\n"
     ]
    }
   ],
   "source": [
    "v = int(input())\n",
    "result = input()\n",
    "a = 0\n",
    "b = 0\n",
    "\n",
    "for i in range(v):\n",
    "    if(result[i] == \"A\"):\n",
    "        a += 1\n",
    "    elif(result[i] == \"B\"):\n",
    "        b += 1\n",
    "\n",
    "if(a > b):\n",
    "    print(\"A\")\n",
    "elif(a == b):\n",
    "    print(\"Tie\")\n",
    "elif(a < b):\n",
    "    print(\"B\")"
   ]
  },
  {
   "cell_type": "code",
   "execution_count": 37,
   "metadata": {},
   "outputs": [
    {
     "name": "stdout",
     "output_type": "stream",
     "text": [
      "Junhee is cute!\n"
     ]
    }
   ],
   "source": [
    "n = int(input())\n",
    "not_cute = 0; cute = 0\n",
    "\n",
    "for i in range(n):\n",
    "    opinion = int(input())\n",
    "    if(opinion == 0):\n",
    "        not_cute += 1\n",
    "    if(opinion == 1):\n",
    "        cute += 1\n",
    "    \n",
    "if(cute > not_cute):\n",
    "    print(\"Junhee is cute!\")\n",
    "elif(cute < not_cute):\n",
    "    print(\"Junhee is not cute!\")"
   ]
  },
  {
   "cell_type": "code",
   "execution_count": 46,
   "metadata": {},
   "outputs": [
    {
     "name": "stdout",
     "output_type": "stream",
     "text": [
      "0\n"
     ]
    }
   ],
   "source": [
    "def is_palindrome(word):\n",
    "    if(word == ''.join(reversed(word))):\n",
    "        return 1\n",
    "    elif(word != ''.join(reversed(word))):\n",
    "        return 0\n",
    "\n",
    "word = input()\n",
    "print(is_palindrome(word))"
   ]
  },
  {
   "cell_type": "code",
   "execution_count": null,
   "metadata": {},
   "outputs": [],
   "source": [
    "def f_m(a, b):\n",
    "    if(b % a == 0):\n",
    "        return \"mutiple\"\n",
    "    elif(a % b == 0):\n",
    "        return \"factor\"\n",
    "    else:\n",
    "        return \"neither\"\n",
    "    \n",
    "while(True):\n",
    "    a, b = map(int, input().split())\n",
    "    if(a == 0 and b == 0):\n",
    "        break\n",
    "    else: \n",
    "        f_m(a, b)"
>>>>>>> a21555dc77b04313b816710cf3bcfe996f2b81f3
   ]
  },
  {
   "cell_type": "code",
   "execution_count": null,
   "metadata": {},
   "outputs": [],
   "source": []
  }
 ],
 "metadata": {
  "kernelspec": {
   "display_name": "base",
   "language": "python",
   "name": "python3"
  },
  "language_info": {
   "codemirror_mode": {
    "name": "ipython",
    "version": 3
   },
   "file_extension": ".py",
   "mimetype": "text/x-python",
   "name": "python",
   "nbconvert_exporter": "python",
   "pygments_lexer": "ipython3",
   "version": "3.11.7"
  }
 },
 "nbformat": 4,
 "nbformat_minor": 2
}
